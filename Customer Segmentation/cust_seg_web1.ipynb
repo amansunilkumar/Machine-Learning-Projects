{
  "cells": [
    {
      "cell_type": "code",
      "execution_count": null,
      "metadata": {
        "id": "DCoWtK7w3uqA"
      },
      "outputs": [],
      "source": [
        "import pandas as pd\n",
        "import numpy as np\n",
        "from sklearn import preprocessing\n",
        "import matplotlib.pyplot as plt \n",
        "plt.rc(\"font\", size=14)\n",
        "from sklearn.linear_model import LogisticRegression\n",
        "from sklearn.model_selection import train_test_split\n",
        "import seaborn as sns\n",
        "sns.set(style=\"white\")\n",
        "sns.set(style=\"whitegrid\", color_codes=True)"
      ]
    },
    {
      "cell_type": "code",
      "execution_count": null,
      "metadata": {
        "id": "WgnmH72S3uqE",
        "outputId": "3127cba1-de07-46e1-cc25-e43fc6fe03cd"
      },
      "outputs": [
        {
          "name": "stderr",
          "output_type": "stream",
          "text": [
            "C:\\Anaconda_Python\\lib\\site-packages\\ipykernel_launcher.py:3: FutureWarning: Sorting because non-concatenation axis is not aligned. A future version\n",
            "of pandas will change to not sort by default.\n",
            "\n",
            "To accept the future behavior, pass 'sort=True'.\n",
            "\n",
            "To retain the current behavior and silence the warning, pass sort=False\n",
            "\n",
            "  This is separate from the ipykernel package so we can avoid doing imports until\n"
          ]
        }
      ],
      "source": [
        "df_train = pd.read_excel('C:/Users/aksin52/Documents/Webinar_Customer_Segmentation/train.xlsx')\n",
        "df_test  = pd.read_excel('C:/Users/aksin52/Documents/Webinar_Customer_Segmentation/test.xlsx')\n",
        "df_combined = pd.concat([df_train, df_test])"
      ]
    },
    {
      "cell_type": "code",
      "execution_count": null,
      "metadata": {
        "id": "sqtsI2z73uqF",
        "outputId": "658b6273-f192-49fa-d768-5f5144383656"
      },
      "outputs": [
        {
          "data": {
            "text/plain": [
              "ID                                         0\n",
              "Gender                                     0\n",
              "DOB                                       15\n",
              "Lead_Creation_Date                         0\n",
              "City_Code                                814\n",
              "City_Category                            814\n",
              "Employer_Code                           4018\n",
              "Employer_Category1                      4018\n",
              "Employer_Category2                      4298\n",
              "Monthly_Income                             0\n",
              "Customer_Existing_Primary_Bank_Code     9391\n",
              "Primary_Bank_Type                       9391\n",
              "Contacted                                  0\n",
              "Source                                     0\n",
              "Source_Category                            0\n",
              "Existing_EMI                              51\n",
              "Loan_Amount                            27709\n",
              "Loan_Period                            27709\n",
              "Interest_Rate                          47437\n",
              "EMI                                    47437\n",
              "Var1                                       0\n",
              "Approved                                   0\n",
              "loan_amt_cl                                0\n",
              "dtype: int64"
            ]
          },
          "execution_count": 171,
          "metadata": {},
          "output_type": "execute_result"
        }
      ],
      "source": [
        "df_train.isnull().sum()"
      ]
    },
    {
      "cell_type": "code",
      "execution_count": null,
      "metadata": {
        "id": "Hgbbim9d3uqF",
        "outputId": "020aea7f-0cc4-4c02-f9aa-1cc75d618893"
      },
      "outputs": [
        {
          "data": {
            "text/plain": [
              "399"
            ]
          },
          "execution_count": 58,
          "metadata": {},
          "output_type": "execute_result"
        }
      ],
      "source": [
        "\n"
      ]
    },
    {
      "cell_type": "code",
      "execution_count": null,
      "metadata": {
        "id": "1xxSgRIu3uqG",
        "outputId": "af8d2318-c98d-4167-9782-9eae84c226b7"
      },
      "outputs": [
        {
          "data": {
            "text/html": [
              "<div>\n",
              "<style scoped>\n",
              "    .dataframe tbody tr th:only-of-type {\n",
              "        vertical-align: middle;\n",
              "    }\n",
              "\n",
              "    .dataframe tbody tr th {\n",
              "        vertical-align: top;\n",
              "    }\n",
              "\n",
              "    .dataframe thead th {\n",
              "        text-align: right;\n",
              "    }\n",
              "</style>\n",
              "<table border=\"1\" class=\"dataframe\">\n",
              "  <thead>\n",
              "    <tr style=\"text-align: right;\">\n",
              "      <th></th>\n",
              "      <th>Approved</th>\n",
              "      <th>City_Category</th>\n",
              "      <th>City_Code</th>\n",
              "      <th>Contacted</th>\n",
              "      <th>Customer_Existing_Primary_Bank_Code</th>\n",
              "      <th>DOB</th>\n",
              "      <th>EMI</th>\n",
              "      <th>Employer_Category1</th>\n",
              "      <th>Employer_Category2</th>\n",
              "      <th>Employer_Code</th>\n",
              "      <th>...</th>\n",
              "      <th>Interest_Rate</th>\n",
              "      <th>Lead_Creation_Date</th>\n",
              "      <th>Loan_Amount</th>\n",
              "      <th>Loan_Period</th>\n",
              "      <th>Monthly_Income</th>\n",
              "      <th>Primary_Bank_Type</th>\n",
              "      <th>Source</th>\n",
              "      <th>Source_Category</th>\n",
              "      <th>Var1</th>\n",
              "      <th>loan_amt_cl</th>\n",
              "    </tr>\n",
              "  </thead>\n",
              "  <tbody>\n",
              "    <tr>\n",
              "      <th>count</th>\n",
              "      <td>69713.000000</td>\n",
              "      <td>98622</td>\n",
              "      <td>98622</td>\n",
              "      <td>99750</td>\n",
              "      <td>86322</td>\n",
              "      <td>99732</td>\n",
              "      <td>31928.000000</td>\n",
              "      <td>94127</td>\n",
              "      <td>93757.000000</td>\n",
              "      <td>94127</td>\n",
              "      <td>...</td>\n",
              "      <td>31928.000000</td>\n",
              "      <td>99750</td>\n",
              "      <td>60170.000000</td>\n",
              "      <td>60170.000000</td>\n",
              "      <td>9.975000e+04</td>\n",
              "      <td>86322</td>\n",
              "      <td>99750</td>\n",
              "      <td>99750</td>\n",
              "      <td>99750.000000</td>\n",
              "      <td>69713.000000</td>\n",
              "    </tr>\n",
              "    <tr>\n",
              "      <th>unique</th>\n",
              "      <td>NaN</td>\n",
              "      <td>3</td>\n",
              "      <td>704</td>\n",
              "      <td>2</td>\n",
              "      <td>57</td>\n",
              "      <td>11672</td>\n",
              "      <td>NaN</td>\n",
              "      <td>3</td>\n",
              "      <td>NaN</td>\n",
              "      <td>48281</td>\n",
              "      <td>...</td>\n",
              "      <td>NaN</td>\n",
              "      <td>92</td>\n",
              "      <td>NaN</td>\n",
              "      <td>NaN</td>\n",
              "      <td>NaN</td>\n",
              "      <td>2</td>\n",
              "      <td>33</td>\n",
              "      <td>7</td>\n",
              "      <td>NaN</td>\n",
              "      <td>NaN</td>\n",
              "    </tr>\n",
              "    <tr>\n",
              "      <th>top</th>\n",
              "      <td>NaN</td>\n",
              "      <td>A</td>\n",
              "      <td>C10001</td>\n",
              "      <td>Y</td>\n",
              "      <td>B001</td>\n",
              "      <td>1982-01-11 00:00:00</td>\n",
              "      <td>NaN</td>\n",
              "      <td>A</td>\n",
              "      <td>NaN</td>\n",
              "      <td>COM0000002</td>\n",
              "      <td>...</td>\n",
              "      <td>NaN</td>\n",
              "      <td>2016-09-02 00:00:00</td>\n",
              "      <td>NaN</td>\n",
              "      <td>NaN</td>\n",
              "      <td>NaN</td>\n",
              "      <td>P</td>\n",
              "      <td>S122</td>\n",
              "      <td>B</td>\n",
              "      <td>NaN</td>\n",
              "      <td>NaN</td>\n",
              "    </tr>\n",
              "    <tr>\n",
              "      <th>freq</th>\n",
              "      <td>NaN</td>\n",
              "      <td>71383</td>\n",
              "      <td>14313</td>\n",
              "      <td>64772</td>\n",
              "      <td>20155</td>\n",
              "      <td>345</td>\n",
              "      <td>NaN</td>\n",
              "      <td>47805</td>\n",
              "      <td>NaN</td>\n",
              "      <td>622</td>\n",
              "      <td>...</td>\n",
              "      <td>NaN</td>\n",
              "      <td>2614</td>\n",
              "      <td>NaN</td>\n",
              "      <td>NaN</td>\n",
              "      <td>NaN</td>\n",
              "      <td>56483</td>\n",
              "      <td>44213</td>\n",
              "      <td>42743</td>\n",
              "      <td>NaN</td>\n",
              "      <td>NaN</td>\n",
              "    </tr>\n",
              "    <tr>\n",
              "      <th>first</th>\n",
              "      <td>NaN</td>\n",
              "      <td>NaN</td>\n",
              "      <td>NaN</td>\n",
              "      <td>NaN</td>\n",
              "      <td>NaN</td>\n",
              "      <td>1930-07-24 00:00:00</td>\n",
              "      <td>NaN</td>\n",
              "      <td>NaN</td>\n",
              "      <td>NaN</td>\n",
              "      <td>NaN</td>\n",
              "      <td>...</td>\n",
              "      <td>NaN</td>\n",
              "      <td>2016-07-01 00:00:00</td>\n",
              "      <td>NaN</td>\n",
              "      <td>NaN</td>\n",
              "      <td>NaN</td>\n",
              "      <td>NaN</td>\n",
              "      <td>NaN</td>\n",
              "      <td>NaN</td>\n",
              "      <td>NaN</td>\n",
              "      <td>NaN</td>\n",
              "    </tr>\n",
              "    <tr>\n",
              "      <th>last</th>\n",
              "      <td>NaN</td>\n",
              "      <td>NaN</td>\n",
              "      <td>NaN</td>\n",
              "      <td>NaN</td>\n",
              "      <td>NaN</td>\n",
              "      <td>1999-02-24 00:00:00</td>\n",
              "      <td>NaN</td>\n",
              "      <td>NaN</td>\n",
              "      <td>NaN</td>\n",
              "      <td>NaN</td>\n",
              "      <td>...</td>\n",
              "      <td>NaN</td>\n",
              "      <td>2016-09-30 00:00:00</td>\n",
              "      <td>NaN</td>\n",
              "      <td>NaN</td>\n",
              "      <td>NaN</td>\n",
              "      <td>NaN</td>\n",
              "      <td>NaN</td>\n",
              "      <td>NaN</td>\n",
              "      <td>NaN</td>\n",
              "      <td>NaN</td>\n",
              "    </tr>\n",
              "    <tr>\n",
              "      <th>mean</th>\n",
              "      <td>0.014631</td>\n",
              "      <td>NaN</td>\n",
              "      <td>NaN</td>\n",
              "      <td>NaN</td>\n",
              "      <td>NaN</td>\n",
              "      <td>NaN</td>\n",
              "      <td>1099.485718</td>\n",
              "      <td>NaN</td>\n",
              "      <td>3.722623</td>\n",
              "      <td>NaN</td>\n",
              "      <td>...</td>\n",
              "      <td>19.233814</td>\n",
              "      <td>NaN</td>\n",
              "      <td>39445.986372</td>\n",
              "      <td>3.894399</td>\n",
              "      <td>5.126893e+03</td>\n",
              "      <td>NaN</td>\n",
              "      <td>NaN</td>\n",
              "      <td>NaN</td>\n",
              "      <td>3.952622</td>\n",
              "      <td>23757.649219</td>\n",
              "    </tr>\n",
              "    <tr>\n",
              "      <th>std</th>\n",
              "      <td>0.120073</td>\n",
              "      <td>NaN</td>\n",
              "      <td>NaN</td>\n",
              "      <td>NaN</td>\n",
              "      <td>NaN</td>\n",
              "      <td>NaN</td>\n",
              "      <td>745.125218</td>\n",
              "      <td>NaN</td>\n",
              "      <td>0.803623</td>\n",
              "      <td>NaN</td>\n",
              "      <td>...</td>\n",
              "      <td>5.857761</td>\n",
              "      <td>NaN</td>\n",
              "      <td>30667.188339</td>\n",
              "      <td>1.162487</td>\n",
              "      <td>1.466628e+05</td>\n",
              "      <td>NaN</td>\n",
              "      <td>NaN</td>\n",
              "      <td>NaN</td>\n",
              "      <td>3.819744</td>\n",
              "      <td>30679.558166</td>\n",
              "    </tr>\n",
              "    <tr>\n",
              "      <th>min</th>\n",
              "      <td>0.000000</td>\n",
              "      <td>NaN</td>\n",
              "      <td>NaN</td>\n",
              "      <td>NaN</td>\n",
              "      <td>NaN</td>\n",
              "      <td>NaN</td>\n",
              "      <td>118.000000</td>\n",
              "      <td>NaN</td>\n",
              "      <td>1.000000</td>\n",
              "      <td>NaN</td>\n",
              "      <td>...</td>\n",
              "      <td>11.990000</td>\n",
              "      <td>NaN</td>\n",
              "      <td>5000.000000</td>\n",
              "      <td>1.000000</td>\n",
              "      <td>0.000000e+00</td>\n",
              "      <td>NaN</td>\n",
              "      <td>NaN</td>\n",
              "      <td>NaN</td>\n",
              "      <td>0.000000</td>\n",
              "      <td>0.000000</td>\n",
              "    </tr>\n",
              "    <tr>\n",
              "      <th>25%</th>\n",
              "      <td>0.000000</td>\n",
              "      <td>NaN</td>\n",
              "      <td>NaN</td>\n",
              "      <td>NaN</td>\n",
              "      <td>NaN</td>\n",
              "      <td>NaN</td>\n",
              "      <td>642.750000</td>\n",
              "      <td>NaN</td>\n",
              "      <td>4.000000</td>\n",
              "      <td>NaN</td>\n",
              "      <td>...</td>\n",
              "      <td>15.250000</td>\n",
              "      <td>NaN</td>\n",
              "      <td>20000.000000</td>\n",
              "      <td>3.000000</td>\n",
              "      <td>1.650000e+03</td>\n",
              "      <td>NaN</td>\n",
              "      <td>NaN</td>\n",
              "      <td>NaN</td>\n",
              "      <td>0.000000</td>\n",
              "      <td>0.000000</td>\n",
              "    </tr>\n",
              "    <tr>\n",
              "      <th>50%</th>\n",
              "      <td>0.000000</td>\n",
              "      <td>NaN</td>\n",
              "      <td>NaN</td>\n",
              "      <td>NaN</td>\n",
              "      <td>NaN</td>\n",
              "      <td>NaN</td>\n",
              "      <td>943.000000</td>\n",
              "      <td>NaN</td>\n",
              "      <td>4.000000</td>\n",
              "      <td>NaN</td>\n",
              "      <td>...</td>\n",
              "      <td>18.000000</td>\n",
              "      <td>NaN</td>\n",
              "      <td>30000.000000</td>\n",
              "      <td>4.000000</td>\n",
              "      <td>2.500000e+03</td>\n",
              "      <td>NaN</td>\n",
              "      <td>NaN</td>\n",
              "      <td>NaN</td>\n",
              "      <td>2.000000</td>\n",
              "      <td>15000.000000</td>\n",
              "    </tr>\n",
              "    <tr>\n",
              "      <th>75%</th>\n",
              "      <td>0.000000</td>\n",
              "      <td>NaN</td>\n",
              "      <td>NaN</td>\n",
              "      <td>NaN</td>\n",
              "      <td>NaN</td>\n",
              "      <td>NaN</td>\n",
              "      <td>1293.000000</td>\n",
              "      <td>NaN</td>\n",
              "      <td>4.000000</td>\n",
              "      <td>NaN</td>\n",
              "      <td>...</td>\n",
              "      <td>20.000000</td>\n",
              "      <td>NaN</td>\n",
              "      <td>50000.000000</td>\n",
              "      <td>5.000000</td>\n",
              "      <td>4.000000e+03</td>\n",
              "      <td>NaN</td>\n",
              "      <td>NaN</td>\n",
              "      <td>NaN</td>\n",
              "      <td>7.000000</td>\n",
              "      <td>36000.000000</td>\n",
              "    </tr>\n",
              "    <tr>\n",
              "      <th>max</th>\n",
              "      <td>1.000000</td>\n",
              "      <td>NaN</td>\n",
              "      <td>NaN</td>\n",
              "      <td>NaN</td>\n",
              "      <td>NaN</td>\n",
              "      <td>NaN</td>\n",
              "      <td>13556.000000</td>\n",
              "      <td>NaN</td>\n",
              "      <td>4.000000</td>\n",
              "      <td>NaN</td>\n",
              "      <td>...</td>\n",
              "      <td>37.000000</td>\n",
              "      <td>NaN</td>\n",
              "      <td>300000.000000</td>\n",
              "      <td>6.000000</td>\n",
              "      <td>3.838384e+07</td>\n",
              "      <td>NaN</td>\n",
              "      <td>NaN</td>\n",
              "      <td>NaN</td>\n",
              "      <td>10.000000</td>\n",
              "      <td>300000.000000</td>\n",
              "    </tr>\n",
              "  </tbody>\n",
              "</table>\n",
              "<p>13 rows × 23 columns</p>\n",
              "</div>"
            ],
            "text/plain": [
              "            Approved City_Category City_Code Contacted  \\\n",
              "count   69713.000000         98622     98622     99750   \n",
              "unique           NaN             3       704         2   \n",
              "top              NaN             A    C10001         Y   \n",
              "freq             NaN         71383     14313     64772   \n",
              "first            NaN           NaN       NaN       NaN   \n",
              "last             NaN           NaN       NaN       NaN   \n",
              "mean        0.014631           NaN       NaN       NaN   \n",
              "std         0.120073           NaN       NaN       NaN   \n",
              "min         0.000000           NaN       NaN       NaN   \n",
              "25%         0.000000           NaN       NaN       NaN   \n",
              "50%         0.000000           NaN       NaN       NaN   \n",
              "75%         0.000000           NaN       NaN       NaN   \n",
              "max         1.000000           NaN       NaN       NaN   \n",
              "\n",
              "       Customer_Existing_Primary_Bank_Code                  DOB           EMI  \\\n",
              "count                                86322                99732  31928.000000   \n",
              "unique                                  57                11672           NaN   \n",
              "top                                   B001  1982-01-11 00:00:00           NaN   \n",
              "freq                                 20155                  345           NaN   \n",
              "first                                  NaN  1930-07-24 00:00:00           NaN   \n",
              "last                                   NaN  1999-02-24 00:00:00           NaN   \n",
              "mean                                   NaN                  NaN   1099.485718   \n",
              "std                                    NaN                  NaN    745.125218   \n",
              "min                                    NaN                  NaN    118.000000   \n",
              "25%                                    NaN                  NaN    642.750000   \n",
              "50%                                    NaN                  NaN    943.000000   \n",
              "75%                                    NaN                  NaN   1293.000000   \n",
              "max                                    NaN                  NaN  13556.000000   \n",
              "\n",
              "       Employer_Category1  Employer_Category2 Employer_Code      ...        \\\n",
              "count               94127        93757.000000         94127      ...         \n",
              "unique                  3                 NaN         48281      ...         \n",
              "top                     A                 NaN    COM0000002      ...         \n",
              "freq                47805                 NaN           622      ...         \n",
              "first                 NaN                 NaN           NaN      ...         \n",
              "last                  NaN                 NaN           NaN      ...         \n",
              "mean                  NaN            3.722623           NaN      ...         \n",
              "std                   NaN            0.803623           NaN      ...         \n",
              "min                   NaN            1.000000           NaN      ...         \n",
              "25%                   NaN            4.000000           NaN      ...         \n",
              "50%                   NaN            4.000000           NaN      ...         \n",
              "75%                   NaN            4.000000           NaN      ...         \n",
              "max                   NaN            4.000000           NaN      ...         \n",
              "\n",
              "        Interest_Rate   Lead_Creation_Date    Loan_Amount   Loan_Period  \\\n",
              "count    31928.000000                99750   60170.000000  60170.000000   \n",
              "unique            NaN                   92            NaN           NaN   \n",
              "top               NaN  2016-09-02 00:00:00            NaN           NaN   \n",
              "freq              NaN                 2614            NaN           NaN   \n",
              "first             NaN  2016-07-01 00:00:00            NaN           NaN   \n",
              "last              NaN  2016-09-30 00:00:00            NaN           NaN   \n",
              "mean        19.233814                  NaN   39445.986372      3.894399   \n",
              "std          5.857761                  NaN   30667.188339      1.162487   \n",
              "min         11.990000                  NaN    5000.000000      1.000000   \n",
              "25%         15.250000                  NaN   20000.000000      3.000000   \n",
              "50%         18.000000                  NaN   30000.000000      4.000000   \n",
              "75%         20.000000                  NaN   50000.000000      5.000000   \n",
              "max         37.000000                  NaN  300000.000000      6.000000   \n",
              "\n",
              "       Monthly_Income  Primary_Bank_Type  Source  Source_Category  \\\n",
              "count    9.975000e+04              86322   99750            99750   \n",
              "unique            NaN                  2      33                7   \n",
              "top               NaN                  P    S122                B   \n",
              "freq              NaN              56483   44213            42743   \n",
              "first             NaN                NaN     NaN              NaN   \n",
              "last              NaN                NaN     NaN              NaN   \n",
              "mean     5.126893e+03                NaN     NaN              NaN   \n",
              "std      1.466628e+05                NaN     NaN              NaN   \n",
              "min      0.000000e+00                NaN     NaN              NaN   \n",
              "25%      1.650000e+03                NaN     NaN              NaN   \n",
              "50%      2.500000e+03                NaN     NaN              NaN   \n",
              "75%      4.000000e+03                NaN     NaN              NaN   \n",
              "max      3.838384e+07                NaN     NaN              NaN   \n",
              "\n",
              "                Var1    loan_amt_cl  \n",
              "count   99750.000000   69713.000000  \n",
              "unique           NaN            NaN  \n",
              "top              NaN            NaN  \n",
              "freq             NaN            NaN  \n",
              "first            NaN            NaN  \n",
              "last             NaN            NaN  \n",
              "mean        3.952622   23757.649219  \n",
              "std         3.819744   30679.558166  \n",
              "min         0.000000       0.000000  \n",
              "25%         0.000000       0.000000  \n",
              "50%         2.000000   15000.000000  \n",
              "75%         7.000000   36000.000000  \n",
              "max        10.000000  300000.000000  \n",
              "\n",
              "[13 rows x 23 columns]"
            ]
          },
          "execution_count": 12,
          "metadata": {},
          "output_type": "execute_result"
        }
      ],
      "source": [
        "df_combined.describe(include='all')"
      ]
    },
    {
      "cell_type": "code",
      "execution_count": null,
      "metadata": {
        "id": "enmv9jHD3uqG",
        "outputId": "052a222f-0f2c-42ff-bd6b-7ff1550247de"
      },
      "outputs": [
        {
          "data": {
            "image/png": "[encoded data removed]",
            "text/plain": [
              "<Figure size 1440x720 with 2 Axes>"
            ]
          },
          "metadata": {},
          "output_type": "display_data"
        }
      ],
      "source": [
        "plt.figure(figsize=(20,10))\n",
        "sns.heatmap(df_combined.corr(), annot=True)\n",
        "plt.show()"
      ]
    },
    {
      "cell_type": "code",
      "execution_count": null,
      "metadata": {
        "id": "CwPbXJhs3uqH",
        "outputId": "1439c29d-fd57-4dc6-e5b5-e0d314c8bd8a"
      },
      "outputs": [
        {
          "data": {
            "text/plain": [
              "Gender                                  0.000000\n",
              "Lead_Creation_Date                      0.000000\n",
              "Source                                  0.000000\n",
              "ID                                      0.000000\n",
              "Var1                                    0.000000\n",
              "Source_Category                         0.000000\n",
              "Monthly_Income                          0.000000\n",
              "Contacted                               0.000000\n",
              "DOB                                     0.018045\n",
              "Existing_EMI                            0.083208\n",
              "City_Code                               1.130827\n",
              "City_Category                           1.130827\n",
              "Employer_Category1                      5.637093\n",
              "Employer_Code                           5.637093\n",
              "Employer_Category2                      6.008020\n",
              "Primary_Bank_Type                      13.461654\n",
              "Customer_Existing_Primary_Bank_Code    13.461654\n",
              "Approved                               30.112281\n",
              "loan_amt_cl                            30.112281\n",
              "Loan_Amount                            39.679198\n",
              "Loan_Period                            39.679198\n",
              "Interest_Rate                          67.991980\n",
              "EMI                                    67.991980\n",
              "dtype: float64"
            ]
          },
          "execution_count": 137,
          "metadata": {},
          "output_type": "execute_result"
        }
      ],
      "source": [
        "(np.sum(df_combined.isnull())/df_combined.shape[0]).sort_values(ascending=True)*100"
      ]
    },
    {
      "cell_type": "code",
      "execution_count": null,
      "metadata": {
        "id": "BrFcV6l_3uqI",
        "outputId": "f870180a-a018-4f0b-e2df-847c9fd7a620"
      },
      "outputs": [
        {
          "name": "stdout",
          "output_type": "stream",
          "text": [
            "True\n",
            "True\n",
            "True\n",
            "True\n",
            "True\n"
          ]
        }
      ],
      "source": [
        "# Relationship between City Category and City Code\n",
        "print (np.sum(df_combined.isnull()).loc['City_Category'] == df_combined[df_combined.City_Category.isnull() & df_combined.City_Code.isnull()].shape[0])\n",
        "\n",
        "# Relationship between Employer Category1 and Employer Code\n",
        "print (np.sum(df_combined.isnull()).loc['Employer_Code'] == df_combined[df_combined.Employer_Category1.isnull() & df_combined.Employer_Code.isnull()].shape[0])\n",
        "\n",
        "# Relationship between Loan Amount and Loan_Period\n",
        "print (np.sum(df_combined.isnull()).loc['Loan_Amount'] == df_combined[df_combined.Loan_Amount.isnull() & df_combined.Loan_Period.isnull()].shape[0])\n",
        "\n",
        "# Relationship between Interest Rate and EMI\n",
        "print (np.sum(df_combined.isnull()).loc['EMI'] == df_combined[df_combined.EMI.isnull() & df_combined.Interest_Rate.isnull()].shape[0])\n",
        "\n",
        "# Relationship between Customer Existing Primary Bank Code and Primary Bank Type\n",
        "print (np.sum(df_combined.isnull()).loc['Primary_Bank_Type'] == df_combined[df_combined.Customer_Existing_Primary_Bank_Code.isnull() & df_combined.Primary_Bank_Type.isnull()].shape[0])"
      ]
    },
    {
      "cell_type": "code",
      "execution_count": null,
      "metadata": {
        "id": "IQM0A1t13uqI",
        "outputId": "719f275d-fec6-4156-bcd4-d9edaa0183da"
      },
      "outputs": [
        {
          "data": {
            "text/plain": [
              "Source_Category\n",
              "A        6\n",
              "B    42743\n",
              "C    16274\n",
              "D      717\n",
              "E     1478\n",
              "F      629\n",
              "G    37903\n",
              "dtype: int64"
            ]
          },
          "execution_count": 19,
          "metadata": {},
          "output_type": "execute_result"
        }
      ],
      "source": [
        "# Group by source_category\n",
        "df_combined.groupby('Source_Category').size()"
      ]
    },
    {
      "cell_type": "code",
      "execution_count": null,
      "metadata": {
        "id": "Fd2KPQsp3uqJ",
        "outputId": "b09d99a8-57a9-4716-811d-4dab295295b0"
      },
      "outputs": [
        {
          "name": "stdout",
          "output_type": "stream",
          "text": [
            "percent of Approved=1, by Source_Category\n",
            "A    0.000000\n",
            "D    0.000000\n",
            "C    1.230877\n",
            "F    1.307190\n",
            "G    1.372653\n",
            "E    1.428571\n",
            "B    1.660405\n",
            "Name: Approved, dtype: float64\n"
          ]
        }
      ],
      "source": [
        "\n",
        "tab = df_combined.groupby('Source_Category').Approved.mean().sort_values()*100\n",
        "print(\"percent of Approved=1, by\", tab)\n",
        "# conclusion: source_category D and A never converted into leads in our training set"
      ]
    },
    {
      "cell_type": "code",
      "execution_count": null,
      "metadata": {
        "id": "Bh7YVyoa3uqJ",
        "outputId": "84d6d76c-c46f-4a00-e1d9-dcf0a40a4c6d"
      },
      "outputs": [
        {
          "data": {
            "text/html": [
              "<div>\n",
              "<style scoped>\n",
              "    .dataframe tbody tr th:only-of-type {\n",
              "        vertical-align: middle;\n",
              "    }\n",
              "\n",
              "    .dataframe tbody tr th {\n",
              "        vertical-align: top;\n",
              "    }\n",
              "\n",
              "    .dataframe thead th {\n",
              "        text-align: right;\n",
              "    }\n",
              "</style>\n",
              "<table border=\"1\" class=\"dataframe\">\n",
              "  <thead>\n",
              "    <tr style=\"text-align: right;\">\n",
              "      <th></th>\n",
              "      <th>Approved</th>\n",
              "      <th>City_Category</th>\n",
              "      <th>City_Code</th>\n",
              "      <th>Contacted</th>\n",
              "      <th>Customer_Existing_Primary_Bank_Code</th>\n",
              "      <th>DOB</th>\n",
              "      <th>EMI</th>\n",
              "      <th>Employer_Category1</th>\n",
              "      <th>Employer_Category2</th>\n",
              "      <th>Employer_Code</th>\n",
              "      <th>...</th>\n",
              "      <th>Lead_Creation_Date</th>\n",
              "      <th>Loan_Amount</th>\n",
              "      <th>Loan_Period</th>\n",
              "      <th>Monthly_Income</th>\n",
              "      <th>Primary_Bank_Type</th>\n",
              "      <th>Source</th>\n",
              "      <th>Source_Category</th>\n",
              "      <th>Var1</th>\n",
              "      <th>loan_amt_cl</th>\n",
              "      <th>age</th>\n",
              "    </tr>\n",
              "  </thead>\n",
              "  <tbody>\n",
              "    <tr>\n",
              "      <th>0</th>\n",
              "      <td>0.0</td>\n",
              "      <td>A</td>\n",
              "      <td>C10001</td>\n",
              "      <td>N</td>\n",
              "      <td>B001</td>\n",
              "      <td>1979-07-23</td>\n",
              "      <td>NaN</td>\n",
              "      <td>A</td>\n",
              "      <td>4.0</td>\n",
              "      <td>COM0044082</td>\n",
              "      <td>...</td>\n",
              "      <td>2016-07-15</td>\n",
              "      <td>NaN</td>\n",
              "      <td>NaN</td>\n",
              "      <td>2000.0</td>\n",
              "      <td>P</td>\n",
              "      <td>S122</td>\n",
              "      <td>G</td>\n",
              "      <td>0</td>\n",
              "      <td>0.0</td>\n",
              "      <td>39.0</td>\n",
              "    </tr>\n",
              "    <tr>\n",
              "      <th>1</th>\n",
              "      <td>0.0</td>\n",
              "      <td>A</td>\n",
              "      <td>C10003</td>\n",
              "      <td>Y</td>\n",
              "      <td>B002</td>\n",
              "      <td>1986-12-07</td>\n",
              "      <td>953.0</td>\n",
              "      <td>C</td>\n",
              "      <td>1.0</td>\n",
              "      <td>COM0000002</td>\n",
              "      <td>...</td>\n",
              "      <td>2016-07-04</td>\n",
              "      <td>20000.0</td>\n",
              "      <td>2.0</td>\n",
              "      <td>3500.0</td>\n",
              "      <td>P</td>\n",
              "      <td>S122</td>\n",
              "      <td>G</td>\n",
              "      <td>10</td>\n",
              "      <td>20000.0</td>\n",
              "      <td>32.0</td>\n",
              "    </tr>\n",
              "    <tr>\n",
              "      <th>2</th>\n",
              "      <td>0.0</td>\n",
              "      <td>C</td>\n",
              "      <td>C10125</td>\n",
              "      <td>Y</td>\n",
              "      <td>B003</td>\n",
              "      <td>1982-12-10</td>\n",
              "      <td>NaN</td>\n",
              "      <td>C</td>\n",
              "      <td>4.0</td>\n",
              "      <td>COM0005267</td>\n",
              "      <td>...</td>\n",
              "      <td>2016-07-19</td>\n",
              "      <td>45000.0</td>\n",
              "      <td>4.0</td>\n",
              "      <td>2250.0</td>\n",
              "      <td>G</td>\n",
              "      <td>S143</td>\n",
              "      <td>B</td>\n",
              "      <td>0</td>\n",
              "      <td>45000.0</td>\n",
              "      <td>36.0</td>\n",
              "    </tr>\n",
              "    <tr>\n",
              "      <th>3</th>\n",
              "      <td>0.0</td>\n",
              "      <td>C</td>\n",
              "      <td>C10477</td>\n",
              "      <td>Y</td>\n",
              "      <td>B003</td>\n",
              "      <td>1989-01-30</td>\n",
              "      <td>NaN</td>\n",
              "      <td>A</td>\n",
              "      <td>4.0</td>\n",
              "      <td>COM0004143</td>\n",
              "      <td>...</td>\n",
              "      <td>2016-07-09</td>\n",
              "      <td>92000.0</td>\n",
              "      <td>5.0</td>\n",
              "      <td>3500.0</td>\n",
              "      <td>G</td>\n",
              "      <td>S143</td>\n",
              "      <td>B</td>\n",
              "      <td>7</td>\n",
              "      <td>92000.0</td>\n",
              "      <td>29.0</td>\n",
              "    </tr>\n",
              "    <tr>\n",
              "      <th>4</th>\n",
              "      <td>0.0</td>\n",
              "      <td>A</td>\n",
              "      <td>C10002</td>\n",
              "      <td>Y</td>\n",
              "      <td>B001</td>\n",
              "      <td>1985-04-19</td>\n",
              "      <td>NaN</td>\n",
              "      <td>A</td>\n",
              "      <td>4.0</td>\n",
              "      <td>COM0001781</td>\n",
              "      <td>...</td>\n",
              "      <td>2016-07-20</td>\n",
              "      <td>50000.0</td>\n",
              "      <td>2.0</td>\n",
              "      <td>10000.0</td>\n",
              "      <td>P</td>\n",
              "      <td>S134</td>\n",
              "      <td>B</td>\n",
              "      <td>10</td>\n",
              "      <td>50000.0</td>\n",
              "      <td>33.0</td>\n",
              "    </tr>\n",
              "  </tbody>\n",
              "</table>\n",
              "<p>5 rows × 24 columns</p>\n",
              "</div>"
            ],
            "text/plain": [
              "   Approved City_Category City_Code Contacted  \\\n",
              "0       0.0             A    C10001         N   \n",
              "1       0.0             A    C10003         Y   \n",
              "2       0.0             C    C10125         Y   \n",
              "3       0.0             C    C10477         Y   \n",
              "4       0.0             A    C10002         Y   \n",
              "\n",
              "  Customer_Existing_Primary_Bank_Code        DOB    EMI Employer_Category1  \\\n",
              "0                                B001 1979-07-23    NaN                  A   \n",
              "1                                B002 1986-12-07  953.0                  C   \n",
              "2                                B003 1982-12-10    NaN                  C   \n",
              "3                                B003 1989-01-30    NaN                  A   \n",
              "4                                B001 1985-04-19    NaN                  A   \n",
              "\n",
              "   Employer_Category2 Employer_Code  ...   Lead_Creation_Date Loan_Amount  \\\n",
              "0                 4.0    COM0044082  ...           2016-07-15         NaN   \n",
              "1                 1.0    COM0000002  ...           2016-07-04     20000.0   \n",
              "2                 4.0    COM0005267  ...           2016-07-19     45000.0   \n",
              "3                 4.0    COM0004143  ...           2016-07-09     92000.0   \n",
              "4                 4.0    COM0001781  ...           2016-07-20     50000.0   \n",
              "\n",
              "  Loan_Period  Monthly_Income Primary_Bank_Type  Source  Source_Category  \\\n",
              "0         NaN          2000.0                 P    S122                G   \n",
              "1         2.0          3500.0                 P    S122                G   \n",
              "2         4.0          2250.0                 G    S143                B   \n",
              "3         5.0          3500.0                 G    S143                B   \n",
              "4         2.0         10000.0                 P    S134                B   \n",
              "\n",
              "   Var1 loan_amt_cl   age  \n",
              "0     0         0.0  39.0  \n",
              "1    10     20000.0  32.0  \n",
              "2     0     45000.0  36.0  \n",
              "3     7     92000.0  29.0  \n",
              "4    10     50000.0  33.0  \n",
              "\n",
              "[5 rows x 24 columns]"
            ]
          },
          "execution_count": 212,
          "metadata": {},
          "output_type": "execute_result"
        }
      ],
      "source": [
        "# create age \n",
        "df_combined['age'] = 2018 - df_combined.DOB.dt.year\n",
        "df_combined['age']=np.where(df_combined['age'] <0, 'nan', df_combined['age'])\n",
        "df_combined.head()"
      ]
    },
    {
      "cell_type": "code",
      "execution_count": null,
      "metadata": {
        "id": "rvRmJdGU3uqK"
      },
      "outputs": [],
      "source": [
        "df_drop_dep=df_combined.drop(['Approved'], axis=1)\n",
        "df_drop_dep.fillna(df_drop_dep.mean(), inplace=True)"
      ]
    },
    {
      "cell_type": "code",
      "execution_count": null,
      "metadata": {
        "id": "M58Js9In3uqK"
      },
      "outputs": [],
      "source": [
        "dep=['Approved']\n",
        "col_num= ['Monthly_Income','Existing_EMI','Loan_Amount','Loan_Period','Interest_Rate','EMI','Var1','loan_amt_cl']\n",
        "col_char=['Gender','Source_Category','Contacted','Primary_Bank_Type','Employer_Category1','Employer_Category2','City_Category']"
      ]
    },
    {
      "cell_type": "code",
      "execution_count": null,
      "metadata": {
        "id": "-tcoPJRg3uqK"
      },
      "outputs": [],
      "source": [
        "X_char_dum = pd.get_dummies(df_drop_dep[col_char], drop_first = True)"
      ]
    },
    {
      "cell_type": "code",
      "execution_count": null,
      "metadata": {
        "id": "-d-ybzYh3uqL"
      },
      "outputs": [],
      "source": [
        "X_all=pd.concat([df_drop_dep[col_num],X_char_dum],axis=1, join='inner')"
      ]
    },
    {
      "cell_type": "code",
      "execution_count": null,
      "metadata": {
        "id": "B4G0fl683uqL"
      },
      "outputs": [],
      "source": [
        "# rows \n",
        "Xm=X_all.head(69713)\n",
        "Xp=X_all.tail(30050)\n",
        "ym=df_train['Approved']"
      ]
    },
    {
      "cell_type": "code",
      "execution_count": null,
      "metadata": {
        "id": "mpP4fIqe3uqL"
      },
      "outputs": [],
      "source": [
        "Xm.to_excel(r'C:\\Users\\aksin52\\Documents\\Webinar_Customer_Segmentation\\Xm.xlsx')\n",
        " "
      ]
    },
    {
      "cell_type": "code",
      "execution_count": null,
      "metadata": {
        "id": "C2-F4zty3uqL",
        "outputId": "97526a55-4139-4eb1-b9f2-2b24ec023abd"
      },
      "outputs": [
        {
          "data": {
            "text/plain": [
              "DecisionTreeClassifier(class_weight=None, criterion='gini', max_depth=5,\n",
              "            max_features=None, max_leaf_nodes=None,\n",
              "            min_impurity_decrease=0.0, min_impurity_split=None,\n",
              "            min_samples_leaf=5, min_samples_split=2,\n",
              "            min_weight_fraction_leaf=0.0, presort=False, random_state=100,\n",
              "            splitter='best')"
            ]
          },
          "execution_count": 233,
          "metadata": {},
          "output_type": "execute_result"
        }
      ],
      "source": [
        "from sklearn.linear_model import LogisticRegression\n",
        "from sklearn import tree\n",
        "from sklearn.tree import DecisionTreeClassifier\n",
        "from sklearn import metrics\n",
        "\n",
        "X_train, X_test, y_train, y_test = train_test_split(Xm, ym, test_size=0.3, random_state=0)\n",
        "logreg = LogisticRegression()\n",
        "logreg.fit(X_train, y_train)\n",
        "\n",
        "dtree = DecisionTreeClassifier(criterion = \"gini\", random_state = 100,max_depth=5, min_samples_leaf=5)\n",
        "dtree.fit(X_train, y_train)"
      ]
    },
    {
      "cell_type": "code",
      "execution_count": null,
      "metadata": {
        "id": "rMhvtSfk3uqM",
        "outputId": "fd54481c-f7a6-4a4d-9897-72e663a152b2"
      },
      "outputs": [
        {
          "name": "stdout",
          "output_type": "stream",
          "text": [
            "Accuracy of logistic regression classifier on test set: 0.99\n"
          ]
        }
      ],
      "source": [
        "y_pred = logreg.predict(X_test)\n",
        "y_pred_tree=dtree.predict(X_test)\n",
        "print('Accuracy of logistic regression classifier on test set: {:.2f}'.format(logreg.score(X_test, y_test)))"
      ]
    },
    {
      "cell_type": "code",
      "execution_count": null,
      "metadata": {
        "id": "MQ5U_Fqo3uqM",
        "outputId": "9980dc9a-475b-4cb2-c155-840ba0603dae"
      },
      "outputs": [
        {
          "name": "stdout",
          "output_type": "stream",
          "text": [
            "[[20630     5]\n",
            " [  278     1]]\n"
          ]
        }
      ],
      "source": [
        "from sklearn.metrics import confusion_matrix\n",
        "confusion_matrix = confusion_matrix(y_test, y_pred)\n",
        "print(confusion_matrix)"
      ]
    },
    {
      "cell_type": "code",
      "execution_count": null,
      "metadata": {
        "id": "n0tBGHf73uqM",
        "outputId": "45a1ea90-8309-473f-e3a8-dc4006af22f3"
      },
      "outputs": [
        {
          "name": "stdout",
          "output_type": "stream",
          "text": [
            "             precision    recall  f1-score   support\n",
            "\n",
            "          0       0.99      1.00      0.99     20635\n",
            "          1       0.00      0.00      0.00       279\n",
            "\n",
            "avg / total       0.97      0.99      0.98     20914\n",
            "\n"
          ]
        }
      ],
      "source": [
        "from sklearn.metrics import classification_report\n",
        "print(classification_report(y_test, y_pred_tree))"
      ]
    },
    {
      "cell_type": "code",
      "execution_count": null,
      "metadata": {
        "id": "LJ83VF7L3uqN",
        "outputId": "ba677598-a19e-40a7-be35-4a16886e7c2f"
      },
      "outputs": [
        {
          "data": {
            "image/png": "[encoded data removed]",
            "text/plain": [
              "<Figure size 432x288 with 1 Axes>"
            ]
          },
          "metadata": {},
          "output_type": "display_data"
        }
      ],
      "source": [
        "from sklearn.metrics import roc_auc_score\n",
        "from sklearn.metrics import roc_curve\n",
        "logit_roc_auc = roc_auc_score(y_test, logreg.predict(X_test))\n",
        "tree_roc_auc=roc_auc_score(y_test, dtree.predict(X_test))\n",
        "\n",
        "fpr, tpr, thresholds = roc_curve(y_test, logreg.predict_proba(X_test)[:,1])\n",
        "fpr, tpr, thresholds = roc_curve(y_test, dtree.predict_proba(X_test)[:,1])\n",
        "\n",
        "plt.figure()\n",
        "\n",
        "plt.plot(fpr, tpr, label='Logistic Regression (area = %0.2f)' % logit_roc_auc)\n",
        "plt.plot(fpr, tpr, label='Tree Regression (area = %0.2f)' % tree_roc_auc)\n",
        "\n",
        "plt.plot([0, 1], [0, 1],'r--')\n",
        "plt.xlim([0.0, 1.0])\n",
        "plt.ylim([0.0, 1.05])\n",
        "plt.xlabel('False Positive Rate')\n",
        "plt.ylabel('True Positive Rate')\n",
        "plt.title('Receiver operating characteristic')\n",
        "plt.legend(loc=\"lower right\")\n",
        "plt.savefig('Log_ROC')\n",
        "plt.show()"
      ]
    },
    {
      "cell_type": "markdown",
      "metadata": {
        "id": "2E7mALns3uqN"
      },
      "source": [
        "Predictions from the models"
      ]
    },
    {
      "cell_type": "code",
      "execution_count": null,
      "metadata": {
        "id": "ui9FL5Kk3uqO"
      },
      "outputs": [],
      "source": [
        "y_pred = logreg.predict(X_test)\n",
        "y_pred_tree=dtree.predict(X_test)"
      ]
    }
  ],
  "metadata": {
    "kernelspec": {
      "display_name": "Python 3",
      "language": "python",
      "name": "python3"
    },
    "language_info": {
      "codemirror_mode": {
        "name": "ipython",
        "version": 3
      },
      "file_extension": ".py",
      "mimetype": "text/x-python",
      "name": "python",
      "nbconvert_exporter": "python",
      "pygments_lexer": "ipython3",
      "version": "3.6.5"
    },
    "colab": {
      "name": "cust_seg_web1.ipynb",
      "provenance": []
    }
  },
  "nbformat": 4,
  "nbformat_minor": 0
}